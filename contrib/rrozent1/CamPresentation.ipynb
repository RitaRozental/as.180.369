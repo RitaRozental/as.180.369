{
 "cells": [
  {
   "cell_type": "markdown",
   "id": "9363e4ee-22f9-4832-b273-dd211daa93c4",
   "metadata": {},
   "source": [
    "git status\n",
    "git add\n",
    "git commit -m “MY MESSAGE HERE”\n",
    "git add –help\n",
    "\n",
    "q = quit to leave\n",
    "use up and doen and j and k to scroll down and up\n",
    "\n",
    "Do we need to do both git add and git commit?\n",
    "\n",
    "Pull if from git to jupyter\n",
    " \n",
    "\n",
    "DO NOT EDIT ON GIT HUB!!!!!!!\n",
    "\n",
    "For help, google, “python pandas”\n",
    "\n",
    " \n",
    "Pandas is used for tabular data\n",
    "Ex: excel is about tabular data\n",
    "\n",
    "If iterate over data frame, need to iterate over the .iter rows (panda is special like this)\n",
    "\n",
    "Pandas data frame looks very much like OG\n",
    "\n",
    " HoloViews\n",
    "pip = \"python install package\"\n",
    "\n",
    "pip show matplot lib (shows where everything is)\n",
    "\n",
    "https://pypi.org/project/fredapi/\n"
   ]
  },
  {
   "cell_type": "code",
   "execution_count": null,
   "id": "6401dfdc-e8ff-46ff-8a43-6573901e3919",
   "metadata": {},
   "outputs": [],
   "source": [
    "for x in [1, 2, 3]"
   ]
  },
  {
   "cell_type": "code",
   "execution_count": null,
   "id": "b426bc1d-318a-4771-8904-ae72ad34bb64",
   "metadata": {},
   "outputs": [],
   "source": [
    "import holoviews\n"
   ]
  },
  {
   "cell_type": "code",
   "execution_count": null,
   "id": "f5c382e9-a5a6-4150-8a6b-a5f6960a8fe1",
   "metadata": {},
   "outputs": [],
   "source": [
    "MY FREDAPI KEY:\n",
    "d45705d0636833c9b42e3e55f08f81ba\n"
   ]
  },
  {
   "cell_type": "code",
   "execution_count": null,
   "id": "fd502b65-66e5-4233-8fe0-7225dd08609e",
   "metadata": {},
   "outputs": [],
   "source": [
    "HW: COMMITS ON AT LEAST 3 DIFFERENT DAYS!!\n",
    "Write draft!\n",
    "commits should hold chat gpt drafts!\n"
   ]
  },
  {
   "cell_type": "raw",
   "id": "1eb4c66a-6ca0-434d-9ab3-1ac8649a40cf",
   "metadata": {},
   "source": [
    "abstract vs. introduction\n",
    "\n",
    "(look at matt's paper!!!)\n",
    "\n",
    "abstract 98-200 words at most\n",
    "\n",
    "the introduction is situating the paper, have be about a page or a page and a half (~500 to 750)\n",
    "\n",
    "how many years of data: as large as possible before covid, short period of time is not necessarily indicative."
   ]
  },
  {
   "cell_type": "code",
   "execution_count": null,
   "id": "b1dcac52-5d8b-464d-b29a-49802289b145",
   "metadata": {},
   "outputs": [],
   "source": [
    "how to open excel ?"
   ]
  }
 ],
 "metadata": {
  "kernelspec": {
   "display_name": "Python 3 (ipykernel)",
   "language": "python",
   "name": "python3"
  },
  "language_info": {
   "codemirror_mode": {
    "name": "ipython",
    "version": 3
   },
   "file_extension": ".py",
   "mimetype": "text/x-python",
   "name": "python",
   "nbconvert_exporter": "python",
   "pygments_lexer": "ipython3",
   "version": "3.10.10"
  }
 },
 "nbformat": 4,
 "nbformat_minor": 5
}
