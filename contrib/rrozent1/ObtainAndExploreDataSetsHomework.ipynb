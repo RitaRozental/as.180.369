{
 "cells": [
  {
   "cell_type": "code",
   "execution_count": 1,
   "id": "c9531094-d784-4359-979b-1c43b9a04084",
   "metadata": {},
   "outputs": [],
   "source": [
    "# Load necessary libraries\n",
    "import statsmodels.api as sm\n",
    "import pandas as pd\n",
    "import numpy as np\n",
    "import matplotlib.pyplot as plt\n",
    "import datetime"
   ]
  },
  {
   "cell_type": "code",
   "execution_count": 2,
   "id": "72ba9f67-4379-4b23-85fa-9dab94d01452",
   "metadata": {},
   "outputs": [
    {
     "name": "stdout",
     "output_type": "stream",
     "text": [
      "         Date  Total_Patents_Originating_in_USA\n",
      "0  1992-01-01                           58694.0\n",
      "1  1993-01-01                           61226.0\n",
      "2  1994-01-01                           64244.0\n",
      "3  1995-01-01                           64399.0\n",
      "4  1996-01-01                           69328.0\n",
      "5  1997-01-01                           69860.0\n",
      "6  1998-01-01                           90649.0\n",
      "7  1999-01-01                           94040.0\n",
      "8  2000-01-01                           96920.0\n",
      "9  2001-01-01                           98594.0\n",
      "10 2002-01-01                           97086.0\n",
      "11 2003-01-01                           98563.0\n",
      "12 2004-01-01                           94110.0\n",
      "13 2005-01-01                           82562.0\n",
      "14 2006-01-01                          102239.0\n",
      "15 2007-01-01                           93665.0\n",
      "16 2008-01-01                           91980.0\n",
      "17 2009-01-01                           95032.0\n",
      "18 2010-01-01                          121164.0\n",
      "19 2011-01-01                          121247.0\n",
      "20 2012-01-01                          134187.0\n",
      "21 2013-01-01                          147652.0\n",
      "22 2014-01-01                          158709.0\n",
      "23 2015-01-01                          155982.0\n",
      "24 2016-01-01                          160540.0\n",
      "25 2017-01-01                          169208.0\n",
      "26 2018-01-01                          161809.0\n",
      "27 2019-01-01                          186118.0\n",
      "28 2020-01-01                          183147.0\n"
     ]
    }
   ],
   "source": [
    "# Set up FRED data connection\n",
    "# Instructions for getting your FRED API key available at these websites\n",
    "# https://pypi.org/project/fredapi/ \n",
    "# http://api.stlouisfed.org/api_key.html\n",
    "\n",
    "from fredapi import Fred\n",
    "fred = Fred(api_key='d45705d0636833c9b42e3e55f08f81ba')\n",
    "\n",
    "# OECD Total share price index \n",
    "temp = fred.get_series('PATENTUSALLTOTAL', observation_start='1992-01-01', observation_end='2020-01-01')\n",
    "df_total_patents_usa_idx = pd.DataFrame(data = temp, columns=['Total_Patents_Originating_in_USA'])\n",
    "df_total_patents_usa_idx = df_total_patents_usa_idx.rename_axis('Date').reset_index()\n",
    "print(df_total_patents_usa_idx.head(29))"
   ]
  },
  {
   "cell_type": "code",
   "execution_count": 3,
   "id": "4854bdec-03fb-4c96-a156-9a217cedadd0",
   "metadata": {},
   "outputs": [
    {
     "ename": "NameError",
     "evalue": "name 'df' is not defined",
     "output_type": "error",
     "traceback": [
      "\u001b[0;31m---------------------------------------------------------------------------\u001b[0m",
      "\u001b[0;31mNameError\u001b[0m                                 Traceback (most recent call last)",
      "Cell \u001b[0;32mIn[3], line 15\u001b[0m\n\u001b[1;32m     13\u001b[0m \u001b[38;5;66;03m# set up figure, axis\u001b[39;00m\n\u001b[1;32m     14\u001b[0m f, ax \u001b[38;5;241m=\u001b[39m plt\u001b[38;5;241m.\u001b[39msubplots(figsize\u001b[38;5;241m=\u001b[39m(\u001b[38;5;241m12\u001b[39m, \u001b[38;5;241m6\u001b[39m))\n\u001b[0;32m---> 15\u001b[0m plot_series(ax, \u001b[43mdf\u001b[49m)\n\u001b[1;32m     16\u001b[0m ax\u001b[38;5;241m.\u001b[39mset_title(\u001b[38;5;124m'\u001b[39m\u001b[38;5;124mReturns are Lower Under GOP Presidencies\u001b[39m\u001b[38;5;124m'\u001b[39m, loc\u001b[38;5;241m=\u001b[39m\u001b[38;5;124m'\u001b[39m\u001b[38;5;124mleft\u001b[39m\u001b[38;5;124m'\u001b[39m)\n\u001b[1;32m     18\u001b[0m \u001b[38;5;66;03m# ax.grid(visible=False)\u001b[39;00m\n",
      "\u001b[0;31mNameError\u001b[0m: name 'df' is not defined"
     ]
    },
    {
     "data": {
      "image/png": "[encoded data removed]",
      "text/plain": [
       "<Figure size 1200x600 with 1 Axes>"
      ]
     },
     "metadata": {},
     "output_type": "display_data"
    }
   ],
   "source": [
    "def plot_series(ax, df, index='Date', cols=['Total_Patents_Originating_in_USA']):\n",
    "    df = df.set_index(keys=index, drop=False)\n",
    "    df.plot(ax=ax, x=index, y=cols, color='blue', legend=False)\n",
    "    # Commented out the area reference since we don't have a definition for 'area'\n",
    "    # y1, y2 = ax.get_ylim()\n",
    "    # ax.fill_between(df[index].index, y1=y1, y2=y2, where=df[area], facecolor='tab:red', alpha=0.4)\n",
    "    return ax\n",
    "\n",
    "# Create the figure and axis objects\n",
    "fig, ax = plt.subplots(figsize=(10,6))\n",
    "\n",
    "plot_series(ax, df_total_patents_usa_idx)\n",
    "ax.set_title('Total Patents Originating in USA Over Time', loc='left')\n",
    "ax.grid(axis='y')\n",
    "ax.set_xlabel('Year')\n",
    "ax.set_ylabel('Number of Patents')\n",
    "\n",
    "plt.show()"
   ]
  },
  {
   "cell_type": "markdown",
   "id": "68e4dbac-deb3-4877-994f-53ee16467a3c",
   "metadata": {},
   "source": [
    "Note: Could not find da"
   ]
  }
 ],
 "metadata": {
  "kernelspec": {
   "display_name": "Python 3 (ipykernel)",
   "language": "python",
   "name": "python3"
  },
  "language_info": {
   "codemirror_mode": {
    "name": "ipython",
    "version": 3
   },
   "file_extension": ".py",
   "mimetype": "text/x-python",
   "name": "python",
   "nbconvert_exporter": "python",
   "pygments_lexer": "ipython3",
   "version": "3.10.10"
  }
 },
 "nbformat": 4,
 "nbformat_minor": 5
}
