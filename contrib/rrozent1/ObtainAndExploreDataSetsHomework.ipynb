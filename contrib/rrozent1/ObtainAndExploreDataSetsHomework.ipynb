{
 "cells": [
  {
   "cell_type": "code",
   "execution_count": null,
   "id": "c9531094-d784-4359-979b-1c43b9a04084",
   "metadata": {},
   "outputs": [],
   "source": [
    "# Load necessary libraries\n",
    "import statsmodels.api as sm\n",
    "import pandas as pd\n",
    "import numpy as np\n",
    "import matplotlib.pyplot as plt\n",
    "import datetime"
   ]
  },
  {
   "cell_type": "code",
   "execution_count": null,
   "id": "72ba9f67-4379-4b23-85fa-9dab94d01452",
   "metadata": {},
   "outputs": [],
   "source": [
    "# Set up FRED data connection\n",
    "# Instructions for getting your FRED API key available at these websites\n",
    "# https://pypi.org/project/fredapi/ \n",
    "# http://api.stlouisfed.org/api_key.html\n",
    "\n",
    "from fredapi import Fred\n",
    "fred = Fred(api_key='d45705d0636833c9b42e3e55f08f81ba')\n",
    "\n",
    "# OECD Total share price index \n",
    "temp = fred.get_series('PATENTUSALLTOTAL', observation_start='1992-01-01', observation_end='2020-01-01')\n",
    "df_total_patents_usa_idx = pd.DataFrame(data = temp, columns=['Total_Patents_Originating_in_USA'])\n",
    "df_total_patents_usa_idx = df_total_patents_usa_idx.rename_axis('Date').reset_index()\n",
    "print(df_total_patents_usa_idx.head(29))\n"
   ]
  }
 ],
 "metadata": {
  "kernelspec": {
   "display_name": "Python 3 (ipykernel)",
   "language": "python",
   "name": "python3"
  },
  "language_info": {
   "codemirror_mode": {
    "name": "ipython",
    "version": 3
   },
   "file_extension": ".py",
   "mimetype": "text/x-python",
   "name": "python",
   "nbconvert_exporter": "python",
   "pygments_lexer": "ipython3",
   "version": "3.10.10"
  }
 },
 "nbformat": 4,
 "nbformat_minor": 5
}
