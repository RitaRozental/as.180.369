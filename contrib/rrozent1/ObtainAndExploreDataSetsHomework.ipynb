{
 "cells": [
  {
   "cell_type": "code",
   "execution_count": 1,
   "id": "c9531094-d784-4359-979b-1c43b9a04084",
   "metadata": {},
   "outputs": [],
   "source": [
    "# Load necessary libraries\n",
    "import statsmodels.api as sm\n",
    "import pandas as pd\n",
    "import numpy as np\n",
    "import matplotlib.pyplot as plt\n",
    "import datetime"
   ]
  },
  {
   "cell_type": "code",
   "execution_count": 2,
   "id": "72ba9f67-4379-4b23-85fa-9dab94d01452",
   "metadata": {},
   "outputs": [
    {
     "name": "stdout",
     "output_type": "stream",
     "text": [
      "         Date  Total_Patents_Originating_in_USA\n",
      "0  1992-01-01                           58694.0\n",
      "1  1993-01-01                           61226.0\n",
      "2  1994-01-01                           64244.0\n",
      "3  1995-01-01                           64399.0\n",
      "4  1996-01-01                           69328.0\n",
      "5  1997-01-01                           69860.0\n",
      "6  1998-01-01                           90649.0\n",
      "7  1999-01-01                           94040.0\n",
      "8  2000-01-01                           96920.0\n",
      "9  2001-01-01                           98594.0\n",
      "10 2002-01-01                           97086.0\n",
      "11 2003-01-01                           98563.0\n",
      "12 2004-01-01                           94110.0\n",
      "13 2005-01-01                           82562.0\n",
      "14 2006-01-01                          102239.0\n",
      "15 2007-01-01                           93665.0\n",
      "16 2008-01-01                           91980.0\n",
      "17 2009-01-01                           95032.0\n",
      "18 2010-01-01                          121164.0\n",
      "19 2011-01-01                          121247.0\n",
      "20 2012-01-01                          134187.0\n",
      "21 2013-01-01                          147652.0\n",
      "22 2014-01-01                          158709.0\n",
      "23 2015-01-01                          155982.0\n",
      "24 2016-01-01                          160540.0\n",
      "25 2017-01-01                          169208.0\n",
      "26 2018-01-01                          161809.0\n",
      "27 2019-01-01                          186118.0\n",
      "28 2020-01-01                          183147.0\n",
      "         Date  Reasearch_and_Development_Expense\n",
      "0  2003-01-01                            63273.0\n",
      "1  2004-01-01                            71478.0\n",
      "2  2005-01-01                            76089.0\n",
      "3  2006-01-01                            84246.0\n",
      "4  2007-01-01                            89298.0\n",
      "5  2008-01-01                            95060.0\n",
      "6  2009-01-01                            97990.0\n",
      "7  2010-01-01                           102659.0\n",
      "8  2011-01-01                           108576.0\n",
      "9  2012-01-01                           113849.0\n",
      "10 2013-01-01                           121099.0\n",
      "11 2014-01-01                           128286.0\n",
      "12 2015-01-01                           142417.0\n",
      "13 2016-01-01                           152369.0\n",
      "14 2017-01-01                           164355.0\n",
      "15 2018-01-01                           181287.0\n",
      "16 2019-01-01                           201648.0\n",
      "17 2020-01-01                           220072.0\n",
      "18 2021-01-01                           269844.0\n"
     ]
    }
   ],
   "source": [
    "# Set up FRED data connection\n",
    "# Instructions for getting your FRED API key available at these websites\n",
    "# https://pypi.org/project/fredapi/ \n",
    "# http://api.stlouisfed.org/api_key.html\n",
    "\n",
    "from fredapi import Fred\n",
    "fred = Fred(api_key='d45705d0636833c9b42e3e55f08f81ba')\n",
    "\n",
    "# Total Patents Originating in the United States\n",
    "temp = fred.get_series('PATENTUSALLTOTAL', observation_start='1992-01-01', observation_end='2020-01-01')\n",
    "df_total_patents_usa_idx = pd.DataFrame(data = temp, columns=['Total_Patents_Originating_in_USA'])\n",
    "df_total_patents_usa_idx = df_total_patents_usa_idx.rename_axis('Date').reset_index()\n",
    "print(df_total_patents_usa_idx.head(29))\n",
    "\n",
    "# Expenses for Research and Development In The Physical, Engineering, and Life Sciences, All Establishments, Employer Firms  \n",
    "temp = fred.get_series('RADITPEALSE3154171', observation_start='2003-01-01', observation_end='2021-01-01')\n",
    "df_total_patents_usa_idx = pd.DataFrame(data = temp, columns=['Reasearch_and_Development_Expense'])\n",
    "df_total_patents_usa_idx = df_total_patents_usa_idx.rename_axis('Date').reset_index()\n",
    "print(df_total_patents_usa_idx.head(19))\n"
   ]
  },
  {
   "cell_type": "code",
   "execution_count": 3,
   "id": "4854bdec-03fb-4c96-a156-9a217cedadd0",
   "metadata": {},
   "outputs": [
    {
     "ename": "KeyError",
     "evalue": "\"None of [Index(['Total_Patents_Originating_in_USA'], dtype='object')] are in the [columns]\"",
     "output_type": "error",
     "traceback": [
      "\u001b[0;31m---------------------------------------------------------------------------\u001b[0m",
      "\u001b[0;31mKeyError\u001b[0m                                  Traceback (most recent call last)",
      "Cell \u001b[0;32mIn[3], line 12\u001b[0m\n\u001b[1;32m      9\u001b[0m \u001b[38;5;66;03m# Create the figure and axis objects\u001b[39;00m\n\u001b[1;32m     10\u001b[0m fig, ax \u001b[38;5;241m=\u001b[39m plt\u001b[38;5;241m.\u001b[39msubplots(figsize\u001b[38;5;241m=\u001b[39m(\u001b[38;5;241m10\u001b[39m,\u001b[38;5;241m6\u001b[39m))\n\u001b[0;32m---> 12\u001b[0m \u001b[43mplot_series\u001b[49m\u001b[43m(\u001b[49m\u001b[43max\u001b[49m\u001b[43m,\u001b[49m\u001b[43m \u001b[49m\u001b[43mdf_total_patents_usa_idx\u001b[49m\u001b[43m)\u001b[49m\n\u001b[1;32m     13\u001b[0m ax\u001b[38;5;241m.\u001b[39mset_title(\u001b[38;5;124m'\u001b[39m\u001b[38;5;124mTotal Patents Originating in USA Over Time\u001b[39m\u001b[38;5;124m'\u001b[39m, loc\u001b[38;5;241m=\u001b[39m\u001b[38;5;124m'\u001b[39m\u001b[38;5;124mleft\u001b[39m\u001b[38;5;124m'\u001b[39m)\n\u001b[1;32m     14\u001b[0m ax\u001b[38;5;241m.\u001b[39mgrid(axis\u001b[38;5;241m=\u001b[39m\u001b[38;5;124m'\u001b[39m\u001b[38;5;124my\u001b[39m\u001b[38;5;124m'\u001b[39m)\n",
      "Cell \u001b[0;32mIn[3], line 3\u001b[0m, in \u001b[0;36mplot_series\u001b[0;34m(ax, df, index, cols)\u001b[0m\n\u001b[1;32m      1\u001b[0m \u001b[38;5;28;01mdef\u001b[39;00m \u001b[38;5;21mplot_series\u001b[39m(ax, df, index\u001b[38;5;241m=\u001b[39m\u001b[38;5;124m'\u001b[39m\u001b[38;5;124mDate\u001b[39m\u001b[38;5;124m'\u001b[39m, cols\u001b[38;5;241m=\u001b[39m[\u001b[38;5;124m'\u001b[39m\u001b[38;5;124mTotal_Patents_Originating_in_USA\u001b[39m\u001b[38;5;124m'\u001b[39m]):\n\u001b[1;32m      2\u001b[0m     df \u001b[38;5;241m=\u001b[39m df\u001b[38;5;241m.\u001b[39mset_index(keys\u001b[38;5;241m=\u001b[39mindex, drop\u001b[38;5;241m=\u001b[39m\u001b[38;5;28;01mFalse\u001b[39;00m)\n\u001b[0;32m----> 3\u001b[0m     \u001b[43mdf\u001b[49m\u001b[38;5;241;43m.\u001b[39;49m\u001b[43mplot\u001b[49m\u001b[43m(\u001b[49m\u001b[43max\u001b[49m\u001b[38;5;241;43m=\u001b[39;49m\u001b[43max\u001b[49m\u001b[43m,\u001b[49m\u001b[43m \u001b[49m\u001b[43mx\u001b[49m\u001b[38;5;241;43m=\u001b[39;49m\u001b[43mindex\u001b[49m\u001b[43m,\u001b[49m\u001b[43m \u001b[49m\u001b[43my\u001b[49m\u001b[38;5;241;43m=\u001b[39;49m\u001b[43mcols\u001b[49m\u001b[43m,\u001b[49m\u001b[43m \u001b[49m\u001b[43mcolor\u001b[49m\u001b[38;5;241;43m=\u001b[39;49m\u001b[38;5;124;43m'\u001b[39;49m\u001b[38;5;124;43mblue\u001b[39;49m\u001b[38;5;124;43m'\u001b[39;49m\u001b[43m,\u001b[49m\u001b[43m \u001b[49m\u001b[43mlegend\u001b[49m\u001b[38;5;241;43m=\u001b[39;49m\u001b[38;5;28;43;01mFalse\u001b[39;49;00m\u001b[43m)\u001b[49m\n\u001b[1;32m      4\u001b[0m     \u001b[38;5;66;03m# Commented out the area reference since we don't have a definition for 'area'\u001b[39;00m\n\u001b[1;32m      5\u001b[0m     \u001b[38;5;66;03m# y1, y2 = ax.get_ylim()\u001b[39;00m\n\u001b[1;32m      6\u001b[0m     \u001b[38;5;66;03m# ax.fill_between(df[index].index, y1=y1, y2=y2, where=df[area], facecolor='tab:red', alpha=0.4)\u001b[39;00m\n\u001b[1;32m      7\u001b[0m     \u001b[38;5;28;01mreturn\u001b[39;00m ax\n",
      "File \u001b[0;32m/opt/tljh/user/lib/python3.10/site-packages/pandas/plotting/_core.py:961\u001b[0m, in \u001b[0;36mPlotAccessor.__call__\u001b[0;34m(self, *args, **kwargs)\u001b[0m\n\u001b[1;32m    958\u001b[0m             \u001b[38;5;28;01mpass\u001b[39;00m\n\u001b[1;32m    960\u001b[0m \u001b[38;5;66;03m# don't overwrite\u001b[39;00m\n\u001b[0;32m--> 961\u001b[0m data \u001b[38;5;241m=\u001b[39m \u001b[43mdata\u001b[49m\u001b[43m[\u001b[49m\u001b[43my\u001b[49m\u001b[43m]\u001b[49m\u001b[38;5;241m.\u001b[39mcopy()\n\u001b[1;32m    963\u001b[0m \u001b[38;5;28;01mif\u001b[39;00m \u001b[38;5;28misinstance\u001b[39m(data, ABCSeries):\n\u001b[1;32m    964\u001b[0m     label_name \u001b[38;5;241m=\u001b[39m label_kw \u001b[38;5;129;01mor\u001b[39;00m y\n",
      "File \u001b[0;32m/opt/tljh/user/lib/python3.10/site-packages/pandas/core/frame.py:3767\u001b[0m, in \u001b[0;36mDataFrame.__getitem__\u001b[0;34m(self, key)\u001b[0m\n\u001b[1;32m   3765\u001b[0m     \u001b[38;5;28;01mif\u001b[39;00m is_iterator(key):\n\u001b[1;32m   3766\u001b[0m         key \u001b[38;5;241m=\u001b[39m \u001b[38;5;28mlist\u001b[39m(key)\n\u001b[0;32m-> 3767\u001b[0m     indexer \u001b[38;5;241m=\u001b[39m \u001b[38;5;28;43mself\u001b[39;49m\u001b[38;5;241;43m.\u001b[39;49m\u001b[43mcolumns\u001b[49m\u001b[38;5;241;43m.\u001b[39;49m\u001b[43m_get_indexer_strict\u001b[49m\u001b[43m(\u001b[49m\u001b[43mkey\u001b[49m\u001b[43m,\u001b[49m\u001b[43m \u001b[49m\u001b[38;5;124;43m\"\u001b[39;49m\u001b[38;5;124;43mcolumns\u001b[39;49m\u001b[38;5;124;43m\"\u001b[39;49m\u001b[43m)\u001b[49m[\u001b[38;5;241m1\u001b[39m]\n\u001b[1;32m   3769\u001b[0m \u001b[38;5;66;03m# take() does not accept boolean indexers\u001b[39;00m\n\u001b[1;32m   3770\u001b[0m \u001b[38;5;28;01mif\u001b[39;00m \u001b[38;5;28mgetattr\u001b[39m(indexer, \u001b[38;5;124m\"\u001b[39m\u001b[38;5;124mdtype\u001b[39m\u001b[38;5;124m\"\u001b[39m, \u001b[38;5;28;01mNone\u001b[39;00m) \u001b[38;5;241m==\u001b[39m \u001b[38;5;28mbool\u001b[39m:\n",
      "File \u001b[0;32m/opt/tljh/user/lib/python3.10/site-packages/pandas/core/indexes/base.py:5877\u001b[0m, in \u001b[0;36mIndex._get_indexer_strict\u001b[0;34m(self, key, axis_name)\u001b[0m\n\u001b[1;32m   5874\u001b[0m \u001b[38;5;28;01melse\u001b[39;00m:\n\u001b[1;32m   5875\u001b[0m     keyarr, indexer, new_indexer \u001b[38;5;241m=\u001b[39m \u001b[38;5;28mself\u001b[39m\u001b[38;5;241m.\u001b[39m_reindex_non_unique(keyarr)\n\u001b[0;32m-> 5877\u001b[0m \u001b[38;5;28;43mself\u001b[39;49m\u001b[38;5;241;43m.\u001b[39;49m\u001b[43m_raise_if_missing\u001b[49m\u001b[43m(\u001b[49m\u001b[43mkeyarr\u001b[49m\u001b[43m,\u001b[49m\u001b[43m \u001b[49m\u001b[43mindexer\u001b[49m\u001b[43m,\u001b[49m\u001b[43m \u001b[49m\u001b[43maxis_name\u001b[49m\u001b[43m)\u001b[49m\n\u001b[1;32m   5879\u001b[0m keyarr \u001b[38;5;241m=\u001b[39m \u001b[38;5;28mself\u001b[39m\u001b[38;5;241m.\u001b[39mtake(indexer)\n\u001b[1;32m   5880\u001b[0m \u001b[38;5;28;01mif\u001b[39;00m \u001b[38;5;28misinstance\u001b[39m(key, Index):\n\u001b[1;32m   5881\u001b[0m     \u001b[38;5;66;03m# GH 42790 - Preserve name from an Index\u001b[39;00m\n",
      "File \u001b[0;32m/opt/tljh/user/lib/python3.10/site-packages/pandas/core/indexes/base.py:5938\u001b[0m, in \u001b[0;36mIndex._raise_if_missing\u001b[0;34m(self, key, indexer, axis_name)\u001b[0m\n\u001b[1;32m   5936\u001b[0m     \u001b[38;5;28;01mif\u001b[39;00m use_interval_msg:\n\u001b[1;32m   5937\u001b[0m         key \u001b[38;5;241m=\u001b[39m \u001b[38;5;28mlist\u001b[39m(key)\n\u001b[0;32m-> 5938\u001b[0m     \u001b[38;5;28;01mraise\u001b[39;00m \u001b[38;5;167;01mKeyError\u001b[39;00m(\u001b[38;5;124mf\u001b[39m\u001b[38;5;124m\"\u001b[39m\u001b[38;5;124mNone of [\u001b[39m\u001b[38;5;132;01m{\u001b[39;00mkey\u001b[38;5;132;01m}\u001b[39;00m\u001b[38;5;124m] are in the [\u001b[39m\u001b[38;5;132;01m{\u001b[39;00maxis_name\u001b[38;5;132;01m}\u001b[39;00m\u001b[38;5;124m]\u001b[39m\u001b[38;5;124m\"\u001b[39m)\n\u001b[1;32m   5940\u001b[0m not_found \u001b[38;5;241m=\u001b[39m \u001b[38;5;28mlist\u001b[39m(ensure_index(key)[missing_mask\u001b[38;5;241m.\u001b[39mnonzero()[\u001b[38;5;241m0\u001b[39m]]\u001b[38;5;241m.\u001b[39munique())\n\u001b[1;32m   5941\u001b[0m \u001b[38;5;28;01mraise\u001b[39;00m \u001b[38;5;167;01mKeyError\u001b[39;00m(\u001b[38;5;124mf\u001b[39m\u001b[38;5;124m\"\u001b[39m\u001b[38;5;132;01m{\u001b[39;00mnot_found\u001b[38;5;132;01m}\u001b[39;00m\u001b[38;5;124m not in index\u001b[39m\u001b[38;5;124m\"\u001b[39m)\n",
      "\u001b[0;31mKeyError\u001b[0m: \"None of [Index(['Total_Patents_Originating_in_USA'], dtype='object')] are in the [columns]\""
     ]
    },
    {
     "data": {
      "image/png": "[encoded data removed]",
      "text/plain": [
       "<Figure size 1000x600 with 1 Axes>"
      ]
     },
     "metadata": {},
     "output_type": "display_data"
    }
   ],
   "source": [
    "def plot_series(ax, df, index='Date', cols=['Total_Patents_Originating_in_USA']):\n",
    "    df = df.set_index(keys=index, drop=False)\n",
    "    df.plot(ax=ax, x=index, y=cols, color='blue', legend=False)\n",
    "    # Commented out the area reference since we don't have a definition for 'area'\n",
    "    # y1, y2 = ax.get_ylim()\n",
    "    # ax.fill_between(df[index].index, y1=y1, y2=y2, where=df[area], facecolor='tab:red', alpha=0.4)\n",
    "    return ax\n",
    "\n",
    "# Create the figure and axis objects\n",
    "fig, ax = plt.subplots(figsize=(10,6))\n",
    "\n",
    "plot_series(ax, df_total_patents_usa_idx)\n",
    "ax.set_title('Total Patents Originating in USA Over Time', loc='left')\n",
    "ax.grid(axis='y')\n",
    "ax.set_xlabel('Year')\n",
    "ax.set_ylabel('Number of Patents')\n",
    "\n",
    "plt.show()"
   ]
  },
  {
   "cell_type": "markdown",
   "id": "68e4dbac-deb3-4877-994f-53ee16467a3c",
   "metadata": {},
   "source": [
    "Note: Could not find da"
   ]
  },
  {
   "cell_type": "code",
   "execution_count": null,
   "id": "328c05c4-78a6-4b4e-b8b4-66222b62e50d",
   "metadata": {},
   "outputs": [],
   "source": [
    "def plot_series(ax, df, index='Date', cols=['Expenses_for_Research_and_Development_In_The_Physical_Engineering_and_Life_Sciences']):\n",
    "    df = df.set_index(keys=index, drop=False)\n",
    "    df.plot(ax=ax, x=index, y=cols, color='blue', legend=False)\n",
    "    # Commented out the area reference since we don't have a definition for 'area'\n",
    "    # y1, y2 = ax.get_ylim()\n",
    "    # ax.fill_between(df[index].index, y1=y1, y2=y2, where=df[area], facecolor='tab:red', alpha=0.4)\n",
    "    return ax\n",
    "\n",
    "# Create the figure and axis objects\n",
    "fig, ax = plt.subplots(figsize=(10,6))\n",
    "\n",
    "plot_series(ax, df_total_patents_usa_idx)\n",
    "ax.set_title('Expenses for Research and Development In The Physical, Engineering, and Life Sciences Over Time', loc='left')\n",
    "ax.grid(axis='y')\n",
    "ax.set_xlabel('Year')\n",
    "ax.set_ylabel('Millions of Dollars')\n",
    "\n",
    "plt.show()"
   ]
  }
 ],
 "metadata": {
  "kernelspec": {
   "display_name": "Python 3 (ipykernel)",
   "language": "python",
   "name": "python3"
  },
  "language_info": {
   "codemirror_mode": {
    "name": "ipython",
    "version": 3
   },
   "file_extension": ".py",
   "mimetype": "text/x-python",
   "name": "python",
   "nbconvert_exporter": "python",
   "pygments_lexer": "ipython3",
   "version": "3.10.10"
  }
 },
 "nbformat": 4,
 "nbformat_minor": 5
}
