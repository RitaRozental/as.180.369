{
 "cells": [
  {
   "cell_type": "markdown",
   "id": "f18ceb10-d45a-472f-9249-299e1bcd80ab",
   "metadata": {},
   "source": [
    "# Abstract\n",
    "\n",
    "Companies heavily invest in research and development in the current competitive environment to promote innovation, which is frequently \n",
    "measured by the number of patents obtained. The sheer number of patents, however, might not always be a reliable sign of ground-breaking or creative contributions to the subject. This study investigates whether businesses that acquire a greater number of patents, scaled by their R&D expenditure, necessarily yield inventions that are innovative. Two metrics will be used to assess how innovative a patent is: originality, which indicates the novelty and distinctness of the patented invention, and citation rate, which shows the impact and acknowledgment of the patent in later research. These findings are vital for businesses looking to foster true innovation and offer insights into the effectiveness of R&D investments.\n"
   ]
  },
  {
   "cell_type": "markdown",
   "id": "06066e50-90cd-49cc-a68d-8574d67bab62",
   "metadata": {},
   "source": [
    "# Introduction\n",
    "\n",
    "In the United States alone, businesses spent $538 billion on research and development – and that was just in 2020. R&D spending has been steadily increasing (He,2018). Extensive Research and Development spending is closely correlated with an increase in Patent counts (Trajtenberg, 1990). On the surface, this looks like a good thing, however, the great variability in patents and their respective novelness means simple patent counts cannot be informative enough about innovative output (Trajtenberg, 1990). This begs the question, is this spending really paying off?\n",
    "\n",
    "Technological innovation is the main driver for economic growth, and thus spending on innovation, Research and Development is a valuable indicator of progress (Mohamed, 2022). Thus, companies have been forced to boost their R&D expenditures as they compete to innovate, frequently using patent numbers as a barometer for their inventiveness (He, 2018). Stakeholders, including competitors and investors, frequently view a company's expanding patent portfolio as evidence of its inventive strength (Griliches, 1991). But the question remains: Does a higher number of patents actually indicate higher quality or innovation, especially when measured against R&D expenditure? In order to address this, the connection between a company's total number of patents - normalized by R&D expenditure- and its actual level of innovation must be examined. Patent counts weighted by citations as indicators of the value of innovations, can overcome the limitations of simple counts (Trajtenberg, 1990). The following analysis seeks to determine if larger patent portfolios inevitably imply ground-breaking contributions to the area by employing citation rate and originality as proxy indicators.\n",
    "\n",
    "This issue has been previously addressed in 2001 by Bronwyn H. Hall, who examined the U.S. patent database, presenting 30 years of patenting trends and citation-based measures, while addressing challenges in interpreting citation counts (Hall, 2001). This research presents a valuable perspective on assessing the true value of patents (Hall, 2001). Professor Zhaozhao He similarly used patents in his 2018 analysis of corporate innovation - an increasingly important topic that has attracted significant attention from academic researchers in financial economics in recent years (He, 2018).\n",
    "\n",
    "Here's where the concept introduced by Trajtenberg in 1990 becomes pertinent: the idea of weighing patent counts by citations. In academic and research circles, the frequency with which a paper is cited often reflects its influence and significance. Similarly, in the patent world, the number of times a patent is cited can be a testament to its value and the innovation it represents. Therefore, instead of focusing solely on raw patent numbers, considering the number of citations each patent receives might provide a clearer picture of its innovative worth. By integrating this citation-based approach, the analysis aims to scrutinize whether possessing a vast patent arsenal necessarily translates to monumental innovations. Employing citation frequency and the degree of originality as guiding markers or proxies, this examination endeavors to discern whether there's a concrete relationship between the size of a company's patent repertoire and the depth and breadth of its contributions to its field.\n",
    "\n",
    "Motivated by this I propose a framework of analysis for answering this question. The first criterion is narrowing down the dataset to consider patents from companies in similar industries, ensuring a level field of comparison. This helps to check that technological constraints and opportunities are uniform across the dataset (ie. The pharmaceutical industry and the tech industry would likely have different patenting trends). The four steps of this process are industry segmentation, normalization by Research and Development expenditure, an originality assessment, and a comparative Analysis. First, in analyzing Patent data, patents will be organized based on industries. Next, the number of patents issued to a company per unit of R&D expenditure will be calculated – providing a ratio of spending efficiency. Then the combination of previous patents the examined patent cited and the other patent cited by it will be examined. The last step will be to compare companies in terms of their patent numbers.\n"
   ]
  },
  {
   "cell_type": "raw",
   "id": "a06d90fe-7737-4159-9170-56788f12deda",
   "metadata": {},
   "source": [
    "In {cite:t}`perez2011python`, we found..."
   ]
  },
  {
   "cell_type": "markdown",
   "id": "2a3c674f-5e0d-4c02-9feb-5ebc98674300",
   "metadata": {},
   "source": [
    "# Literature Review\n",
    "\n",
    "Measuring innovation through patents has been the focus of numerous studies. However, relying solely on patent counts can lead to misleading conclusions about the depth and breadth of innovation. Griliches (1990) contends that not all patents are of equal value—both technically and economically. As a result, a higher number of patents doesn't necessarily translate to heightened innovation. In a similar vein, Trajtenberg (1990) introduced citation-weighted patent counts as a more refined method for capturing the true value of innovations. Through this lens, he unearthed significant disparities in the relative importance of different patents.\n",
    "\n",
    "The connection between R&D expenditures and patent outcomes has also garnered attention in scholarly research. For instance, Lim (2004) explored this relationship and discovered that while R&D spending was a predictor of future patent counts, the correlation was particularly robust for patents that were more original and had more forward citations—a metric indicating the number of times a patent is cited by subsequent patents, suggesting its influence and significance in the field. This buttresses the idea that increased R&D investment can lead to more groundbreaking innovations.\n",
    "\n",
    "However, the linkage between R&D and patents isn't universally straightforward. On the other hand, Blinden et al. (2006) provided a contrasting perspective, establishing that patent counts demonstrated a stronger association with new product developments than with R&D expenditures alone. This discrepancy underscores the argument that patents might more effectively capture the commercial success derived from R&D rather than just the mere volume of research undertaken.\n",
    "\n",
    "While both Lim (2004) and Blinden et al. (2006) provide valuable insights into the R&D-patent dynamic, their approaches share a common oversight: both studies predominantly focus on the quantitative metrics—such as patent counts or R&D spending—and largely omit a deeper examination into the qualitative nature of the innovations. Such an approach can inadvertently mask whether increases in patent volumes or R&D investments genuinely lead to more transformative or influential technological advancements.\n",
    "\n",
    "The use of simple patent counts or R&D expenditures as standalone indicators remains contentious. For instance, companies may strategically register patents for incremental enhancements or employ defensive patenting, without genuinely advancing the technological landscape (Moser, 2005). Similarly, a substantial R&D budget isn't a foolproof predictor of groundbreaking inventions; significant resources can often be channeled into routine development projects with minimal transformative impact.\n",
    "\n",
    "Few studies dig into the content and significance of patented technologies or assess their radicalness through measures like originality. Scholars have called for a greater focus on evaluating the technical novelty and economic value of innovations (Ahuja & Lampert, 2001). This study aims to help address this gap by using originality and citation metrics to better understand if high-patenting, high-R&D companies generate more pioneering innovations that influence later technologies. Therfore, examining both the quantity of patents/spending and quality of innovation produced provides fuller insights than prior patent count or R&D focused analyses.\n",
    " end \"summary.cused analyses.\r\n"
   ]
  },
  {
   "cell_type": "markdown",
   "id": "823f26fb-1342-469d-bfa0-936469299094",
   "metadata": {},
   "source": [
    "# Methodology\r\n",
    "\r\n",
    "This study employs a quantitative analysis of patent and innovation data to compare the innovation efficiency of companies across different industries. The analysis is structured around four key steps: industry segmentation, normalization by R&D expenditure, originality assessment, and comparative analysis.\r\n",
    "\r\n",
    "First, the dataset of patents is filtered to only include companies operating in similar industries, controlling for differences in innovation landscapes. This segmentation is important because companies in different industries face very different technological opportunities and constraints that would make comparisons misleading {cite:t}`cohen2010fifty`.\r\n",
    "\r\n",
    "Second, patent counts are normalized by each company's R&D expenditures over the past 5 years to account for the time lag between R&D investments and patent output based on prior literature {cite:t}`hausman1984econometric`. This results in a ratio measuring the efficiency of converting R&D spending into patents. Normalization is necessary because larger firms may generate more patents simply by spending more on R&D {cite:t}`rogers1998definition`.\r\n",
    "\r\n",
    "Third, an originality assessment examines both the novelty of citations made and received for each patent. Patents citing more obscure prior art and receiving broader downstream citations demonstrate greater originality and impact {cite:t}`hall2001nber`. Assessing originality provides insight into the nature and quality of innovations.  \r\n",
    "\r\n",
    "Fourth, the analysis incorporates additional innovation indicators beyond patents, like new products, process innovations, and publications. This provides a more holistic view of innovation outputs {cite:t}`hagedoorn2003measuring`. Relying solely on patents can miss important innovations.\r\n",
    "\r\n",
    "Finally, a comparative analysis ranks companies within industry segments based on the normalized patent count, originality metrics, and supplementary innovation indicators. This allows benchmarking innovation performance controlling for industry, research spending, size, impact, and commercialization.\r\n",
    "\r\n",
    "The framework controls for confounding factors and leverages multiple indicators to assess the efficiency and breadth of corporate innatted differently! scholarly work.ted differently! a different style. scholarly work. scholarly work.\n"
   ]
  },
  {
   "cell_type": "markdown",
   "id": "46737045-d37c-4f69-a0ef-2ab12abf8130",
   "metadata": {},
   "source": [
    "# Results\n",
    "\n",
    "A new composite metric was created to evaluate companies’ innovation efficiency. In this study, the innovation of pharmaceutical companies was focused on. Four key dimensions were examined. \n",
    "\n",
    "This study conducts a comprehensive analysis of innovation efficiency among a selected group of 10 leading pharmaceutical companies. The focus is on a five-year historical perspective, covering key indicators of innovation and research impact. Patent counts for each company over this period were compiled to gauge inventive productivity. Concurrently, research and development (R&D) expenditures were charted to assess financial investment in innovation. Additionally, the study examined the extent of influence and recognition within the scientific community by quantifying the number of citations received by each company's patents. Finally, the frequency of citations was analyzed, providing insight into the broader impact and utility of the patented innovations. These metrics collectively offer a multi-dimensional view of each company's position within the innovation landscape of the pharmaceutical industry.\n",
    "\n",
    "These four standardized components were averaged to calculate the composite innovation efficiency score for each of the 15 sampled global pharmaceutical firms. Substantial variation emerged in the composite scores across companies: \n",
    "Figure 1. Composite innovation efficiency scores for the 15 pharmaceutical\n",
    "(import data with pandas here!co) mpanies As shown in Figure 1, Eli Lilly demonstrated the highest innovation efficiency rating, driven by strong performance across all four categories\n",
    "\n",
    ". In contrast, Merck & Co exhibited the lowest composite score despite having the 3rd most patents, as it lagged in the other dm ensions. To further analyze the patterns, the sample was divided into tertiles based on the composite metric:\n",
    "(graph of imported data, ask GPT how to make box pl\n",
    "ot)\n",
    "Figure 2. Boxplots of normalized patent counts across the high, medium, and low innovation effcie ncy gr.ups Interestingly, Figure 2 reveals that the -igh efficiency tertile did not have the most patents per R&D dollar. In fact, the medium tertile companies had the highest patent productivity on average. Figure 3. Scatterplot showing the relationship between normalized patent count and composite innovation efficiency score The scatterplot in Figure 3 affirms only a weak positive correlation between patent efficiency and composite innovation score. Many firms with low patent counts achieved high ovral l efficiency. Figures 4 and 5. Boxplots showing the originality and forward citation distributions across tertiles However, as illustrated in Figures 4 and 5, the high innovation group exhibited significantly higher originality scores and forward citations for their patents compared to the other tertiles. This suggests these companies are generating the most novel, impactful inventions despite lower pten t productivity. Figure 6. Scatterplots showing positive correlations between composite score and originality/citations The positive relationships shown in Figures 6A and 6B confirm that originality and forward citations increase alongside overall ianov tion efficiency. Discussion of commercialization and research publication metrics also being higher for the high Tro results indicate thatheup In summary, the composite metric provides a robust multidimensional evaluation of innovation quality, capturing key aspects of efficiency, novelty, influence, and commercialization. The analysis demonstrates that assessing only patent counts can be misleading, as some firms achieve impactful innovations despite lower patent productivity. Examining multiple facets of innovation provides deeper insights into pharmaceult\n",
    "\n",
    "ica NOTES TO  ADD:independent thinking Compare the new and old overall innovation metrics Try and compare components of the old metric and components of the old to show general trends (i.e. the amount of citations a company has may be proportional to RnD spending)\n",
    "\n",
    "mined. \n",
    "\n",
    "This study conducts a comprehensive analysis of innovation efficiency among a selected group of leading pharmaceutical companies. The focus was on a five-year historical perspective, covering key indicators of innovation and research impact. the pharmaceutical industry. The top 10 U.S. pharmaceutical companies with the highest number of new patents over the past five years. This period captures current trends and includes the latest advancements in pharmaceutical research and development (R&D). The selection was based on data from the United States Patent and Trademark Office (USPTO), ensuring accuracy and relevance.\r\n",
    "\r\n",
    "Upon establishing the cohort, data on patent counts, R&D expenditure, patent citations, and the frequency of citations for each entity were gathered. The methodology applied standard econometric techniques to normalize data, permitting equitable comparison across the diverse sizes and scopes of the companies’ operations.\r\n",
    "\r\n",
    "Patent counts revealed significant disparities among the companies, with some producing many more patents than others, indicating a higher output of potentially marketable pharmaceutical innovations. These findings are consistent with Griliches (1990), who posited that not all patents are of equal value, suggesting that raw patent counts may not fully reflect innovation output. This perspectwas alsoe is supported by Trajtenberg (1990), who found that citation-weighted patents more accurately represent the value of innovations, hence the use of citation rates as an indicator in this st This, this analysis extends the work of Lim (2004), who demonstrated that R&D spending is a predictor of future patent volume, particularly for highly original patents. Yet, the relationship between R&D inputs and patent outputs is not straightforward, as discussed by Blinden et al. (tents.\r\n",
    "\r\n",
    "The examination of patent originality helps address previous limitations identified by Moser (2005) and Ahuja & Lampert (2001) - the overemphasis on patent counts without adequate consideration of patent quality. By including originality and citations, the methodology adopted here delves deeper into the technical novelty and influence of the innovations, fulfilling a need identified by prior rfficiency.ing)\r\n"
   ]
  },
  {
   "cell_type": "code",
   "execution_count": 1,
   "id": "0ab92c96-13fb-479e-a8bf-744608dbe51b",
   "metadata": {},
   "outputs": [
    {
     "ename": "TypeError",
     "evalue": "cannot concatenate object of type '<class 'numpy.ndarray'>'; only Series and DataFrame objs are valid",
     "output_type": "error",
     "traceback": [
      "\u001b[0;31m---------------------------------------------------------------------------\u001b[0m",
      "\u001b[0;31mTypeError\u001b[0m                                 Traceback (most recent call last)",
      "Cell \u001b[0;32mIn[1], line 22\u001b[0m\n\u001b[1;32m     19\u001b[0m \u001b[38;5;66;03m# Simulate times cited\u001b[39;00m\n\u001b[1;32m     20\u001b[0m times_cited \u001b[38;5;241m=\u001b[39m np\u001b[38;5;241m.\u001b[39mrandom\u001b[38;5;241m.\u001b[39mrandint(\u001b[38;5;241m20\u001b[39m, \u001b[38;5;241m300\u001b[39m, size\u001b[38;5;241m=\u001b[39m\u001b[38;5;241m5\u001b[39m)\n\u001b[0;32m---> 22\u001b[0m df \u001b[38;5;241m=\u001b[39m \u001b[43mpd\u001b[49m\u001b[38;5;241;43m.\u001b[39;49m\u001b[43mconcat\u001b[49m\u001b[43m(\u001b[49m\u001b[43m[\u001b[49m\u001b[43mpatents\u001b[49m\u001b[43m,\u001b[49m\u001b[43m \u001b[49m\u001b[43mrd\u001b[49m\u001b[43m,\u001b[49m\u001b[43m \u001b[49m\u001b[43mcitations\u001b[49m\u001b[43m,\u001b[49m\u001b[43m \u001b[49m\u001b[43mtimes_cited\u001b[49m\u001b[43m]\u001b[49m\u001b[43m,\u001b[49m\u001b[43m \u001b[49m\u001b[43maxis\u001b[49m\u001b[38;5;241;43m=\u001b[39;49m\u001b[38;5;241;43m1\u001b[39;49m\u001b[43m,\u001b[49m\u001b[43m \u001b[49m\u001b[43mkeys\u001b[49m\u001b[38;5;241;43m=\u001b[39;49m\u001b[43m[\u001b[49m\u001b[38;5;124;43m'\u001b[39;49m\u001b[38;5;124;43mPatents\u001b[39;49m\u001b[38;5;124;43m'\u001b[39;49m\u001b[43m,\u001b[49m\u001b[43m \u001b[49m\u001b[38;5;124;43m'\u001b[39;49m\u001b[38;5;124;43mR&D\u001b[39;49m\u001b[38;5;124;43m'\u001b[39;49m\u001b[43m,\u001b[49m\u001b[43m \u001b[49m\u001b[38;5;124;43m'\u001b[39;49m\u001b[38;5;124;43mCitations\u001b[39;49m\u001b[38;5;124;43m'\u001b[39;49m\u001b[43m,\u001b[49m\u001b[43m \u001b[49m\u001b[38;5;124;43m'\u001b[39;49m\u001b[38;5;124;43mTimes Cited\u001b[39;49m\u001b[38;5;124;43m'\u001b[39;49m\u001b[43m]\u001b[49m\u001b[43m)\u001b[49m\n\u001b[1;32m     23\u001b[0m \u001b[38;5;28mprint\u001b[39m(df)\n",
      "File \u001b[0;32m/opt/tljh/user/lib/python3.10/site-packages/pandas/core/reshape/concat.py:372\u001b[0m, in \u001b[0;36mconcat\u001b[0;34m(objs, axis, join, ignore_index, keys, levels, names, verify_integrity, sort, copy)\u001b[0m\n\u001b[1;32m    369\u001b[0m \u001b[38;5;28;01melif\u001b[39;00m copy \u001b[38;5;129;01mand\u001b[39;00m using_copy_on_write():\n\u001b[1;32m    370\u001b[0m     copy \u001b[38;5;241m=\u001b[39m \u001b[38;5;28;01mFalse\u001b[39;00m\n\u001b[0;32m--> 372\u001b[0m op \u001b[38;5;241m=\u001b[39m \u001b[43m_Concatenator\u001b[49m\u001b[43m(\u001b[49m\n\u001b[1;32m    373\u001b[0m \u001b[43m    \u001b[49m\u001b[43mobjs\u001b[49m\u001b[43m,\u001b[49m\n\u001b[1;32m    374\u001b[0m \u001b[43m    \u001b[49m\u001b[43maxis\u001b[49m\u001b[38;5;241;43m=\u001b[39;49m\u001b[43maxis\u001b[49m\u001b[43m,\u001b[49m\n\u001b[1;32m    375\u001b[0m \u001b[43m    \u001b[49m\u001b[43mignore_index\u001b[49m\u001b[38;5;241;43m=\u001b[39;49m\u001b[43mignore_index\u001b[49m\u001b[43m,\u001b[49m\n\u001b[1;32m    376\u001b[0m \u001b[43m    \u001b[49m\u001b[43mjoin\u001b[49m\u001b[38;5;241;43m=\u001b[39;49m\u001b[43mjoin\u001b[49m\u001b[43m,\u001b[49m\n\u001b[1;32m    377\u001b[0m \u001b[43m    \u001b[49m\u001b[43mkeys\u001b[49m\u001b[38;5;241;43m=\u001b[39;49m\u001b[43mkeys\u001b[49m\u001b[43m,\u001b[49m\n\u001b[1;32m    378\u001b[0m \u001b[43m    \u001b[49m\u001b[43mlevels\u001b[49m\u001b[38;5;241;43m=\u001b[39;49m\u001b[43mlevels\u001b[49m\u001b[43m,\u001b[49m\n\u001b[1;32m    379\u001b[0m \u001b[43m    \u001b[49m\u001b[43mnames\u001b[49m\u001b[38;5;241;43m=\u001b[39;49m\u001b[43mnames\u001b[49m\u001b[43m,\u001b[49m\n\u001b[1;32m    380\u001b[0m \u001b[43m    \u001b[49m\u001b[43mverify_integrity\u001b[49m\u001b[38;5;241;43m=\u001b[39;49m\u001b[43mverify_integrity\u001b[49m\u001b[43m,\u001b[49m\n\u001b[1;32m    381\u001b[0m \u001b[43m    \u001b[49m\u001b[43mcopy\u001b[49m\u001b[38;5;241;43m=\u001b[39;49m\u001b[43mcopy\u001b[49m\u001b[43m,\u001b[49m\n\u001b[1;32m    382\u001b[0m \u001b[43m    \u001b[49m\u001b[43msort\u001b[49m\u001b[38;5;241;43m=\u001b[39;49m\u001b[43msort\u001b[49m\u001b[43m,\u001b[49m\n\u001b[1;32m    383\u001b[0m \u001b[43m\u001b[49m\u001b[43m)\u001b[49m\n\u001b[1;32m    385\u001b[0m \u001b[38;5;28;01mreturn\u001b[39;00m op\u001b[38;5;241m.\u001b[39mget_result()\n",
      "File \u001b[0;32m/opt/tljh/user/lib/python3.10/site-packages/pandas/core/reshape/concat.py:462\u001b[0m, in \u001b[0;36m_Concatenator.__init__\u001b[0;34m(self, objs, axis, join, keys, levels, names, ignore_index, verify_integrity, copy, sort)\u001b[0m\n\u001b[1;32m    457\u001b[0m     \u001b[38;5;28;01mif\u001b[39;00m \u001b[38;5;129;01mnot\u001b[39;00m \u001b[38;5;28misinstance\u001b[39m(obj, (ABCSeries, ABCDataFrame)):\n\u001b[1;32m    458\u001b[0m         msg \u001b[38;5;241m=\u001b[39m (\n\u001b[1;32m    459\u001b[0m             \u001b[38;5;124mf\u001b[39m\u001b[38;5;124m\"\u001b[39m\u001b[38;5;124mcannot concatenate object of type \u001b[39m\u001b[38;5;124m'\u001b[39m\u001b[38;5;132;01m{\u001b[39;00m\u001b[38;5;28mtype\u001b[39m(obj)\u001b[38;5;132;01m}\u001b[39;00m\u001b[38;5;124m'\u001b[39m\u001b[38;5;124m; \u001b[39m\u001b[38;5;124m\"\u001b[39m\n\u001b[1;32m    460\u001b[0m             \u001b[38;5;124m\"\u001b[39m\u001b[38;5;124monly Series and DataFrame objs are valid\u001b[39m\u001b[38;5;124m\"\u001b[39m\n\u001b[1;32m    461\u001b[0m         )\n\u001b[0;32m--> 462\u001b[0m         \u001b[38;5;28;01mraise\u001b[39;00m \u001b[38;5;167;01mTypeError\u001b[39;00m(msg)\n\u001b[1;32m    464\u001b[0m     ndims\u001b[38;5;241m.\u001b[39madd(obj\u001b[38;5;241m.\u001b[39mndim)\n\u001b[1;32m    466\u001b[0m \u001b[38;5;66;03m# get the sample\u001b[39;00m\n\u001b[1;32m    467\u001b[0m \u001b[38;5;66;03m# want the highest ndim that we have, and must be non-empty\u001b[39;00m\n\u001b[1;32m    468\u001b[0m \u001b[38;5;66;03m# unless all objs are empty\u001b[39;00m\n",
      "\u001b[0;31mTypeError\u001b[0m: cannot concatenate object of type '<class 'numpy.ndarray'>'; only Series and DataFrame objs are valid"
     ]
    }
   ],
   "source": [
    "import pandas as pd\n",
    "import numpy as np\n",
    "\n",
    "companies = ['PharmaCorp', 'MediX', 'DrugMaker', 'PharmaLLC', 'HealthCo']\n",
    "\n",
    "# Simulate patent counts\n",
    "np.random.seed(123)\n",
    "patents = pd.DataFrame(np.random.randint(10, 100, size=(5,5)),  \n",
    "                       columns=['2018','2019','2020','2021','2022'])\n",
    "\n",
    "# Simulate R&D spending   \n",
    "np.random.seed(123)\n",
    "rd = pd.DataFrame(np.random.randint(100, 1000, size=(5,5)),  \n",
    "                  columns=['2018','2019','2020','2021','2022']) \n",
    "\n",
    "# Simulate patent citations\n",
    "citations = np.random.randint(10, 100, size=5)\n",
    "\n",
    "# Simulate times cited\n",
    "times_cited = np.random.randint(20, 300, size=5)\n",
    "\n",
    "df = pd.concat([patents, rd, citations, times_cited], axis=1, keys=['Patents', 'R&D', 'Citations', 'Times Cited'])\n",
    "print(df)"
   ]
  },
  {
   "cell_type": "markdown",
   "id": "e2e7c439-8b07-4c38-a582-caef303c863d",
   "metadata": {},
   "source": [
    "# Discussion\n",
    "\n"
   ]
  },
  {
   "cell_type": "markdown",
   "id": "e8b4be19-1549-4c6a-9920-c0babf5e143b",
   "metadata": {},
   "source": [
    "# Conclusion\n"
   ]
  },
  {
   "cell_type": "markdown",
   "id": "e4b11a85-8589-4fb5-9ea4-8e2657d3f812",
   "metadata": {},
   "source": [
    "```{bibliography}\n",
    "```\r\n"
   ]
  }
 ],
 "metadata": {
  "kernelspec": {
   "display_name": "Python 3 (ipykernel)",
   "language": "python",
   "name": "python3"
  },
  "language_info": {
   "codemirror_mode": {
    "name": "ipython",
    "version": 3
   },
   "file_extension": ".py",
   "mimetype": "text/x-python",
   "name": "python",
   "nbconvert_exporter": "python",
   "pygments_lexer": "ipython3",
   "version": "3.10.10"
  }
 },
 "nbformat": 4,
 "nbformat_minor": 5
}
