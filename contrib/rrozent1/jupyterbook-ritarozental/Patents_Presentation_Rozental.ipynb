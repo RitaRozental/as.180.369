{
 "cells": [
  {
   "cell_type": "markdown",
   "id": "03e80be5-8796-428c-ac55-edd7f550f828",
   "metadata": {
    "editable": true,
    "slideshow": {
     "slide_type": ""
    },
    "tags": []
   },
   "source": [
    "<link rel=\"stylesheet\" href=\"/home/jupyter-ritarozental/as.180.369/contrib/rrozent1/jupyterbook-ritarozental/serif.css\">\n",
    "\n"
   ]
  },
  {
   "cell_type": "markdown",
   "id": "00c27d44-59cb-42e4-b3a5-8728c69d001e",
   "metadata": {
    "editable": true,
    "slideshow": {
     "slide_type": "slide"
    },
    "tags": []
   },
   "source": [
    "<h1 style=\"text-align: center;\"> Innovation as Measured by New Patents Issued</h1>\n",
    "<h3 style=\"text-align: center;\">by Rita Rozental</h3>\n",
    "&nbsp;\n",
    "<h4 style=\"text-align: center;\"><a"
   ]
  },
  {
   "cell_type": "code",
   "execution_count": null,
   "id": "013422cd-bf9b-434d-8802-86853d383f14",
   "metadata": {
    "editable": true,
    "slideshow": {
     "slide_type": "slide"
    },
    "tags": []
   },
   "outputs": [],
   "source": []
  }
 ],
 "metadata": {
  "kernelspec": {
   "display_name": "Python 3 (ipykernel)",
   "language": "python",
   "name": "python3"
  },
  "language_info": {
   "codemirror_mode": {
    "name": "ipython",
    "version": 3
   },
   "file_extension": ".py",
   "mimetype": "text/x-python",
   "name": "python",
   "nbconvert_exporter": "python",
   "pygments_lexer": "ipython3",
   "version": "3.10.10"
  }
 },
 "nbformat": 4,
 "nbformat_minor": 5
}
