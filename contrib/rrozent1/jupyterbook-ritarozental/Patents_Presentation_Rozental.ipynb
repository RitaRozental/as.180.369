{
 "cells": [
  {
   "cell_type": "code",
   "execution_count": 1,
   "id": "2dac9b3c-30dd-489f-8c34-60f84cac9fd9",
   "metadata": {
    "editable": true,
    "slideshow": {
     "slide_type": "slide"
    },
    "tags": []
   },
   "outputs": [
    {
     "data": {
      "text/html": [
       "<link rel=\"stylesheet\" href=\"https://cdnjs.cloudflare.com/ajax/libs/reveal.js/5.0.2/theme/serif.min.css\">\n"
      ],
      "text/plain": [
       "<IPython.core.display.HTML object>"
      ]
     },
     "metadata": {},
     "output_type": "display_data"
    }
   ],
   "source": [
    "%%html\n",
    "<link rel=\"stylesheet\" href=\"as.180.369/contrib/rrozent1/jupyterbook-ritarozental/serif.css\">"
   ]
  },
  {
   "cell_type": "markdown",
   "id": "00c27d44-59cb-42e4-b3a5-8728c69d001e",
   "metadata": {
    "editable": true,
    "slideshow": {
     "slide_type": ""
    },
    "tags": []
   },
   "source": [
    "<h1 style=\"text-align: center;\"> Innovation as Measured by New Patents Issued</h1>\n",
    "<h3 style=\"text-align: center;\">by Rita Rozental</h3>\n",
    "&nbsp;\n",
    "<h4 style=\"text-align: center;\"><a"
   ]
  },
  {
   "cell_type": "markdown",
   "id": "e96192c0-9230-43d3-91a3-ab65ed96ad9a",
   "metadata": {
    "editable": true,
    "slideshow": {
     "slide_type": "slide"
    },
    "tags": []
   },
   "source": [
    "<h3 style=\"text-align: center;\"> Current Measures of Innovation</h1>"
   ]
  },
  {
   "cell_type": "markdown",
   "id": "3891192f-2962-4075-9436-32cc771b31a0",
   "metadata": {
    "editable": true,
    "slideshow": {
     "slide_type": ""
    },
    "tags": []
   },
   "source": [
    "<h3 style=\"text-align: center;\"> Literature Review of Current Methods</h1>"
   ]
  },
  {
   "cell_type": "markdown",
   "id": "e5c4be31-c6dc-4589-bdcf-c141ff6a0015",
   "metadata": {
    "editable": true,
    "slideshow": {
     "slide_type": ""
    },
    "tags": []
   },
   "source": [
    "<h3 style=\"text-align: center;\"> Key Factors Used to Look at Innovation</h1>"
   ]
  },
  {
   "cell_type": "code",
   "execution_count": null,
   "id": "802e021b-7391-4f6c-bcf4-6eb08916d611",
   "metadata": {
    "editable": true,
    "slideshow": {
     "slide_type": "slide"
    },
    "tags": []
   },
   "outputs": [],
   "source": []
  },
  {
   "cell_type": "code",
   "execution_count": null,
   "id": "bfffe739-18de-4abb-8913-dceb669fbb92",
   "metadata": {
    "editable": true,
    "slideshow": {
     "slide_type": ""
    },
    "tags": []
   },
   "outputs": [],
   "source": []
  },
  {
   "cell_type": "code",
   "execution_count": null,
   "id": "bca1c553-15c8-4a4f-9e57-98eee361685c",
   "metadata": {
    "editable": true,
    "slideshow": {
     "slide_type": ""
    },
    "tags": []
   },
   "outputs": [],
   "source": []
  }
 ],
 "metadata": {
  "kernelspec": {
   "display_name": "Python 3 (ipykernel)",
   "language": "python",
   "name": "python3"
  },
  "language_info": {
   "codemirror_mode": {
    "name": "ipython",
    "version": 3
   },
   "file_extension": ".py",
   "mimetype": "text/x-python",
   "name": "python",
   "nbconvert_exporter": "python",
   "pygments_lexer": "ipython3",
   "version": "3.10.10"
  },
  "rise": {
   "reveal_scroll": true,
   "theme": "serif",
   "transition": "convex"
  }
 },
 "nbformat": 4,
 "nbformat_minor": 5
}
