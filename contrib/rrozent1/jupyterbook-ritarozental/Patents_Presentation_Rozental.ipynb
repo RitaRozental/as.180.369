{
 "cells": [
  {
   "cell_type": "markdown",
   "id": "03e80be5-8796-428c-ac55-edd7f550f828",
   "metadata": {
    "editable": true,
    "slideshow": {
     "slide_type": ""
    },
    "tags": []
   },
   "source": [
    "<link rel=\"stylesheet\" href=\"https://cdnjs.cloudflare.com/ajax/libs/reveal.js/5.0.2/theme/serif.min.css\">\n",
    "\n",
    "\n"
   ]
  },
  {
   "cell_type": "markdown",
   "id": "00c27d44-59cb-42e4-b3a5-8728c69d001e",
   "metadata": {
    "editable": true,
    "slideshow": {
     "slide_type": "slide"
    },
    "tags": []
   },
   "source": [
    "<h1 style=\"text-align: center;\"> Innovation as Measured by New Patents Issued</h1>\n",
    "<h3 style=\"text-align: center;\">by Rita Rozental</h3>\n",
    "&nbsp;\n",
    "<h4 style=\"text-align: center;\"><a"
   ]
  },
  {
   "cell_type": "markdown",
   "id": "e96192c0-9230-43d3-91a3-ab65ed96ad9a",
   "metadata": {
    "editable": true,
    "slideshow": {
     "slide_type": "slide"
    },
    "tags": []
   },
   "source": [
    "<h3 style=\"text-align: center;\"> Current Measures of Innovation</h1>"
   ]
  },
  {
   "cell_type": "markdown",
   "id": "3891192f-2962-4075-9436-32cc771b31a0",
   "metadata": {
    "editable": true,
    "slideshow": {
     "slide_type": ""
    },
    "tags": []
   },
   "source": [
    "<h3 style=\"text-align: center;\"> Literature Review of Current Methods</h1>"
   ]
  }
 ],
 "metadata": {
  "kernelspec": {
   "display_name": "Python 3 (ipykernel)",
   "language": "python",
   "name": "python3"
  },
  "language_info": {
   "codemirror_mode": {
    "name": "ipython",
    "version": 3
   },
   "file_extension": ".py",
   "mimetype": "text/x-python",
   "name": "python",
   "nbconvert_exporter": "python",
   "pygments_lexer": "ipython3",
   "version": "3.10.10"
  }
 },
 "nbformat": 4,
 "nbformat_minor": 5
}
