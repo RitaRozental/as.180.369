{
 "cells": [
  {
   "cell_type": "markdown",
   "id": "e9fa776c-1c0a-4842-874e-203d42d833de",
   "metadata": {},
   "source": [
    "In his paper, Generative AI for Economic Research: Use Cases and Implications for Economists\n",
    "A Korinek discusses teh potential of Generative AI and large language models like ChatGPT to revolutionize economic research. The paper categorizes LLM capabilities into 6 domains: ideation/feedback, writing, background research, data analysis, coding, and math derivations. LLMs can help with ideation, brainstorming, evaluating ideas, providing feedback and counterarguments. In writing, LLMs can synthesize text, provide examples, edit/evaluate text, generate tweets/titles. For background research LLMs are useful for searching/summarizing literature, translating text, explaining concepts, formatting references. LLMs can write code based on natural language instructions, explain code, translate between programming languages, and debug code. For data analysis LLMs can create figures, extract/reformat data, classify text, extract sentiment, simulate human responses to generate data. LLMs are starting to show capabilities in math derivations like setting up models, working through derivations, explaining models. The paper provides instructions on how to use LLMs for these tasks and rates their current usefulness from experimental to highly useful. Anton Korinek had several suggestions in his paper that I intend to use when writing my own paper.\n",
    "Korinkey discusses at length the great potential of generative AI models and their use in research. As per his paper, GPT 4 is currently the most powerful publicly available LLM - so I made the decision to use the paid version of CHat GPT. He also brings up Claudee 2, which is a model that I had not previously heard of, however, Claude 2 is much better than Chat GPT in terms of how much content/words it can handle. This would be incredibly useful for quick (and only preliminary) filtering of research papers. This tool could be used to more accurately assess the usefulness of the papers.\n"
   ]
  },
  {
   "cell_type": "markdown",
   "id": "cc4048af-5e5b-4ec8-9809-c7bd61ba25e1",
   "metadata": {},
   "source": [
    "Instructions for Homework Assignment:\n",
    "\n",
    "Commit over at least 3 separate days\n",
    "Say what advice you took\n",
    "Contain search query\n",
    "Contain answer\n",
    "\"Answer this question as if you were a smart person\"\n"
   ]
  }
 ],
 "metadata": {
  "kernelspec": {
   "display_name": "Python 3 (ipykernel)",
   "language": "python",
   "name": "python3"
  },
  "language_info": {
   "codemirror_mode": {
    "name": "ipython",
    "version": 3
   },
   "file_extension": ".py",
   "mimetype": "text/x-python",
   "name": "python",
   "nbconvert_exporter": "python",
   "pygments_lexer": "ipython3",
   "version": "3.10.10"
  }
 },
 "nbformat": 4,
 "nbformat_minor": 5
}
