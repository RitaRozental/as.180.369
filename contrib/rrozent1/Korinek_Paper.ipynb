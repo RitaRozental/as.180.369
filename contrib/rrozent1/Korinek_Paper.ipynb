{
 "cells": [
  {
   "cell_type": "markdown",
   "id": "e9fa776c-1c0a-4842-874e-203d42d833de",
   "metadata": {},
   "source": [
    "In his paper, Generative AI for Economic Research: Use Cases and Implications for Economists\n",
    "A Korinek, Anton Korinek, had several suggestions that I intend to use when writing my own paper.\n",
    "Korinkey discusses at length the great potential of generative AI models and their use in research. As per his paper, GPT 4 is currently the most powerful publicly available LLM - so I made the decision to use the paid version of CHat GPT. He also brings up Claudee 2, which is a model that I had not previously heard of, however, Claude 2 is much better than Chat GPT in terms of how much content/words it can handle. This would be incredibly useful for quick (and only preliminary) filtering of research papers. This tool could be used to more accurately assess the usefulness of the papers.\n"
   ]
  }
 ],
 "metadata": {
  "kernelspec": {
   "display_name": "Python 3 (ipykernel)",
   "language": "python",
   "name": "python3"
  },
  "language_info": {
   "codemirror_mode": {
    "name": "ipython",
    "version": 3
   },
   "file_extension": ".py",
   "mimetype": "text/x-python",
   "name": "python",
   "nbconvert_exporter": "python",
   "pygments_lexer": "ipython3",
   "version": "3.10.10"
  }
 },
 "nbformat": 4,
 "nbformat_minor": 5
}
