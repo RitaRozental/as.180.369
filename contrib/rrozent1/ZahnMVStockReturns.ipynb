{
 "cells": [
  {
   "cell_type": "code",
   "execution_count": 1,
   "id": "ebf61828-836a-43e3-bd0e-42aef1095f88",
   "metadata": {},
   "outputs": [],
   "source": [
    "# Load necessary libraries\n",
    "import statsmodels.api as sm\n",
    "import pandas as pd\n",
    "import numpy as np\n",
    "import matplotlib.pyplot as plt\n",
    "import datetime"
   ]
  },
  {
   "cell_type": "code",
   "execution_count": 2,
   "id": "fcad6384-cb1c-4869-9cb1-f8a5c3f4fce0",
   "metadata": {},
   "outputs": [
    {
     "name": "stdout",
     "output_type": "stream",
     "text": [
      "        Date  Total_Price_Index\n",
      "0 1960-01-01           3.418156\n",
      "1 1960-02-01           3.255919\n",
      "2 1960-03-01           3.205570\n",
      "3 1960-04-01           3.233542\n",
      "4 1960-05-01           3.205570\n",
      "        Date  Total_Dividends_Paid\n",
      "0 1946-01-01                 8.021\n",
      "1 1947-01-01                 9.309\n",
      "2 1948-01-01                10.647\n",
      "3 1949-01-01                10.942\n",
      "4 1950-01-01                13.076\n",
      "        Date  Total_Dividends_Paid  Total_Dividends_Index\n",
      "0 1946-01-01                 8.021               0.037506\n",
      "1 1947-01-01                 9.309               0.043528\n",
      "2 1948-01-01                10.647               0.049785\n",
      "3 1949-01-01                10.942               0.051164\n",
      "4 1950-01-01                13.076               0.061143\n"
     ]
    },
    {
     "name": "stderr",
     "output_type": "stream",
     "text": [
      "/tmp/ipykernel_248032/1852250754.py:21: FutureWarning: Calling float on a single element Series is deprecated and will raise a TypeError in the future. Use float(ser.iloc[0]) instead\n",
      "  div_base = np.float64(df_dividends.loc[df_dividends[\"Date\"] == \"2015-01-01\", \"Total_Dividends_Paid\"])\n"
     ]
    },
    {
     "name": "stdout",
     "output_type": "stream",
     "text": [
      "        Date    CPI    CPI_ADJ\n",
      "0 1960-01-01  29.37  10.362547\n",
      "1 1960-02-01  29.41  10.348453\n",
      "2 1960-03-01  29.41  10.348453\n",
      "3 1960-04-01  29.54  10.302911\n",
      "4 1960-05-01  29.57  10.292459\n"
     ]
    },
    {
     "name": "stderr",
     "output_type": "stream",
     "text": [
      "/tmp/ipykernel_248032/1852250754.py:30: FutureWarning: Calling float on a single element Series is deprecated and will raise a TypeError in the future. Use float(ser.iloc[0]) instead\n",
      "  cpi_base = np.float64(df_cpi.loc[df_cpi[\"Date\"] == \"2023-07-01\", \"CPI\"])\n"
     ]
    }
   ],
   "source": [
    "# Set up FRED data connection\n",
    "# Instructions for getting your FRED API key available at these websites\n",
    "# https://pypi.org/project/fredapi/ \n",
    "# http://api.stlouisfed.org/api_key.html\n",
    "from fredapi import Fred\n",
    "fred = Fred(api_key='8f59dec25e3eb3275581b6d50ddbc63b')\n",
    "\n",
    "# OECD Total share price index \n",
    "temp = fred.get_series('SPASTT01USM661N', observation_start='1960-01-01', observation_end='2023-07-01')\n",
    "df_total_share_price_idx = pd.DataFrame(data = temp, columns=['Total_Price_Index'])\n",
    "df_total_share_price_idx = df_total_share_price_idx.rename_axis('Date').reset_index()\n",
    "print(df_total_share_price_idx.head(5))\n",
    "\n",
    "# Annual dividends\n",
    "temp = fred.get_series('A2218C1A027NBEA', observation_start='1929-01-01', observation_end='2021-01-01')\n",
    "df_dividends = pd.DataFrame(data = temp, columns=['Total_Dividends_Paid'])\n",
    "df_dividends = df_dividends.rename_axis('Date').reset_index()\n",
    "print(df_dividends.head(5))\n",
    "\n",
    "# Dividends are measured in total annual dollars. Convert to index, base 2015 to align with share price data\n",
    "div_base = np.float64(df_dividends.loc[df_dividends[\"Date\"] == \"2015-01-01\", \"Total_Dividends_Paid\"])\n",
    "df_dividends['Total_Dividends_Index'] =  ((df_dividends['Total_Dividends_Paid']/12)/div_base)*100\n",
    "print(df_dividends.head(5))\n",
    "\n",
    "# Load CPI \n",
    "temp = fred.get_series('CPIAUCSL', observation_start='1960-01-01', observation_end='2023-07-01')\n",
    "df_cpi = pd.DataFrame(data = temp, columns=['CPI'])\n",
    "df_cpi = df_cpi.rename_axis('Date').reset_index()\n",
    "\n",
    "cpi_base = np.float64(df_cpi.loc[df_cpi[\"Date\"] == \"2023-07-01\", \"CPI\"])\n",
    "df_cpi['CPI_ADJ'] = cpi_base / df_cpi['CPI']\n",
    "print(df_cpi.head(5))"
   ]
  },
  {
   "cell_type": "code",
   "execution_count": 3,
   "id": "1760776c-e112-445e-987e-4164fd56278c",
   "metadata": {},
   "outputs": [
    {
     "name": "stdout",
     "output_type": "stream",
     "text": [
      "         Date  Total_Price_Index  Total_Dividends_Paid  Total_Dividends_Index  \\\n",
      "0  1960-01-01           3.418156                20.114               0.094052   \n",
      "1  1961-01-01           3.295080                21.063               0.098489   \n",
      "2  1962-01-01           3.675497                22.973               0.107420   \n",
      "3  1963-01-01           3.502071                24.332               0.113775   \n",
      "4  1964-01-01           4.050319                27.955               0.130716   \n",
      "..        ...                ...                   ...                    ...   \n",
      "57 2017-01-01         105.023548              1922.862               8.991182   \n",
      "58 2018-01-01         124.243166              3011.279              14.080551   \n",
      "59 2019-01-01         111.166161              2506.554              11.720489   \n",
      "60 2020-01-01         130.905203              2397.311              11.209675   \n",
      "61 2021-01-01         138.835736              2427.633              11.351459   \n",
      "\n",
      "        CPI    CPI_ADJ  Real_Price_Index  Real_Dividends_Index  \\\n",
      "0    29.370  10.362547         35.420801              0.974616   \n",
      "1    29.840  10.199330         33.607607              1.004524   \n",
      "2    30.040  10.131425         37.238017              1.088321   \n",
      "3    30.440   9.998292         35.014731              1.137555   \n",
      "4    30.940   9.836716         39.841838              1.285814   \n",
      "..      ...        ...               ...                   ...   \n",
      "57  243.618   1.249284        131.204208             11.232537   \n",
      "58  248.859   1.222974        151.946119             17.220143   \n",
      "59  252.718   1.204299        133.877281             14.114971   \n",
      "60  259.037   1.174921        153.803267             13.170482   \n",
      "61  262.650   1.158759        160.877131             13.153603   \n",
      "\n",
      "    Real_Price_Index_Lag  Real_Month_Return  Real_Total_Return  \\\n",
      "0                    NaN                NaN          35.420801   \n",
      "1              35.420801           0.977170          33.607607   \n",
      "2              33.607607           1.140407          37.238017   \n",
      "3              37.238017           0.970843          35.014731   \n",
      "4              35.014731           1.174581          39.841838   \n",
      "..                   ...                ...                ...   \n",
      "57            114.243598           1.246781         131.204208   \n",
      "58            131.204208           1.289336         151.946119   \n",
      "59            151.946119           0.973978         133.877281   \n",
      "60            133.877281           1.247215         153.803267   \n",
      "61            153.803267           1.131515         160.877131   \n",
      "\n",
      "    log_Real_Total_Return  log_Real_Month_Return  \n",
      "0                3.567299                    NaN  \n",
      "1                3.514752              -0.023095  \n",
      "2                3.617330               0.131385  \n",
      "3                3.555769              -0.029590  \n",
      "4                3.684918               0.160912  \n",
      "..                    ...                    ...  \n",
      "57               4.876755               0.220565  \n",
      "58               5.023526               0.254127  \n",
      "59               4.896924              -0.026366  \n",
      "60               5.035674               0.220913  \n",
      "61               5.080641               0.123558  \n",
      "\n",
      "[62 rows x 13 columns]\n"
     ]
    }
   ],
   "source": [
    "# Combine FRED data and define real return for each month\n",
    "df_fred = pd.merge(df_total_share_price_idx, df_dividends, left_on='Date', right_on='Date')\n",
    "df_fred = pd.merge(df_fred, df_cpi, left_on='Date', right_on='Date')\n",
    "\n",
    "df_fred['Real_Price_Index'] = df_fred['Total_Price_Index']*df_fred['CPI_ADJ']\n",
    "df_fred['Real_Dividends_Index'] = df_fred['Total_Dividends_Index']*df_fred['CPI_ADJ']\n",
    "df_fred['Real_Price_Index_Lag'] = df_fred['Real_Price_Index'].shift()\n",
    "\n",
    "df_fred['Real_Month_Return'] = (df_fred['Real_Price_Index'] + df_fred['Real_Dividends_Index']) / df_fred['Real_Price_Index_Lag']\n",
    "df_fred['Real_Total_Return'] = df_fred['Real_Price_Index']\n",
    "df_fred['Real_Month_Return'].where(np.arange(len(df_fred))>0, 0).add(1).cumprod() * df_fred.loc[0, 'Real_Total_Return']\n",
    "df_fred['log_Real_Total_Return'] = np.log(df_fred['Real_Total_Return'])\n",
    "df_fred['log_Real_Month_Return'] = np.log(df_fred['Real_Month_Return'])\n",
    "print(df_fred)"
   ]
  },
  {
   "cell_type": "code",
   "execution_count": 4,
   "id": "e30296f3-3e84-42cf-b6d9-299c0086229e",
   "metadata": {},
   "outputs": [
    {
     "name": "stdout",
     "output_type": "stream",
     "text": [
      "<bound method NDFrame.head of            Date GOP\n",
      "0    1871-01-01   1\n",
      "1    1871-02-01   1\n",
      "2    1871-03-01   1\n",
      "3    1871-04-01   1\n",
      "4    1871-05-01   1\n",
      "...         ...  ..\n",
      "1826 2023-03-01   0\n",
      "1827 2023-04-01   0\n",
      "1828 2023-05-01   0\n",
      "1829 2023-06-01   0\n",
      "1830 2023-07-01   0\n",
      "\n",
      "[1831 rows x 2 columns]>\n"
     ]
    }
   ],
   "source": [
    "# Read in data files \n",
    "# GOP term flags\n",
    "url = \"https://github.com/llorracc/as.180.369/blob/main/materials/presidential-term-data/GOP_flag.csv?raw=true\"\n",
    "temp = pd.read_csv(url,dtype=str)\n",
    "df_gop = pd.DataFrame(temp)\n",
    "\n",
    "# Add a specific day (e.g., the first day of the month)\n",
    "df_gop['Date'] = df_gop['Date'] + '.01'\n",
    "\n",
    "# Convert the complete date string to a datetime object\n",
    "#df_gop['Date'] = datetime.strptime(df_gop['Date'], '%Y-%m-%d')\n",
    "df_gop['Date'] = pd.to_datetime(df_gop['Date'])\n",
    "df_gop['Date'] = df_gop['Date'].dt.normalize()\n",
    "df_gop['Date'] = df_gop['Date'].dt.floor('D')\n",
    "print(df_gop.head)"
   ]
  },
  {
   "cell_type": "code",
   "execution_count": 1,
   "id": "098bf392-9aed-449b-9e0e-3e0896ece68f",
   "metadata": {},
   "outputs": [
    {
     "ename": "NameError",
     "evalue": "name 'pd' is not defined",
     "output_type": "error",
     "traceback": [
      "\u001b[0;31m---------------------------------------------------------------------------\u001b[0m",
      "\u001b[0;31mNameError\u001b[0m                                 Traceback (most recent call last)",
      "Cell \u001b[0;32mIn[1], line 2\u001b[0m\n\u001b[1;32m      1\u001b[0m \u001b[38;5;66;03m# Create new data frame that merges GOP flag with returns data\u001b[39;00m\n\u001b[0;32m----> 2\u001b[0m df \u001b[38;5;241m=\u001b[39m \u001b[43mpd\u001b[49m\u001b[38;5;241m.\u001b[39mmerge(df_fred, df_gop, left_on\u001b[38;5;241m=\u001b[39m\u001b[38;5;124m'\u001b[39m\u001b[38;5;124mDate\u001b[39m\u001b[38;5;124m'\u001b[39m, right_on\u001b[38;5;241m=\u001b[39m\u001b[38;5;124m'\u001b[39m\u001b[38;5;124mDate\u001b[39m\u001b[38;5;124m'\u001b[39m)\n\u001b[1;32m      3\u001b[0m \u001b[38;5;28mprint\u001b[39m(df\u001b[38;5;241m.\u001b[39mhead(\u001b[38;5;241m5\u001b[39m))\n",
      "\u001b[0;31mNameError\u001b[0m: name 'pd' is not defined"
     ]
    }
   ],
   "source": [
    "# Create new data frame that merges GOP flag with returns data\n",
    "df = pd.merge(df_fred, df_gop, left_on='Date', right_on='Date')\n",
    "print(df.head(5))"
   ]
  },
  {
   "cell_type": "code",
   "execution_count": 1,
   "id": "06897979-ae1c-4baa-a9b7-96feef4c1290",
   "metadata": {},
   "outputs": [
    {
     "ename": "NameError",
     "evalue": "name 'plt' is not defined",
     "output_type": "error",
     "traceback": [
      "\u001b[0;31m---------------------------------------------------------------------------\u001b[0m",
      "\u001b[0;31mNameError\u001b[0m                                 Traceback (most recent call last)",
      "Cell \u001b[0;32mIn[1], line 18\u001b[0m\n\u001b[1;32m     15\u001b[0m     \u001b[38;5;28;01mreturn\u001b[39;00m ax\n\u001b[1;32m     17\u001b[0m \u001b[38;5;66;03m# set up figure, axis\u001b[39;00m\n\u001b[0;32m---> 18\u001b[0m f, ax \u001b[38;5;241m=\u001b[39m \u001b[43mplt\u001b[49m\u001b[38;5;241m.\u001b[39msubplots(figsize\u001b[38;5;241m=\u001b[39m(\u001b[38;5;241m12\u001b[39m, \u001b[38;5;241m6\u001b[39m))\n\u001b[1;32m     19\u001b[0m plot_series(ax, df)\n\u001b[1;32m     20\u001b[0m ax\u001b[38;5;241m.\u001b[39mset_title(\u001b[38;5;124m'\u001b[39m\u001b[38;5;124mReturns are Lower Under GOP Presidencies\u001b[39m\u001b[38;5;124m'\u001b[39m, loc\u001b[38;5;241m=\u001b[39m\u001b[38;5;124m'\u001b[39m\u001b[38;5;124mleft\u001b[39m\u001b[38;5;124m'\u001b[39m)\n",
      "\u001b[0;31mNameError\u001b[0m: name 'plt' is not defined"
     ]
    }
   ],
   "source": [
    "# Plot real total returns. Shade GOP presidential terms\n",
    "# convenience function\n",
    "def plot_series(ax, df, index='Date', cols=['Real_Total_Return'], area='GOP'):\n",
    "    # convert area variable to boolean\n",
    "    df[area] = df[area].astype(int).astype(bool)\n",
    "    # set up an index based on date\n",
    "    df = df.set_index(keys=index, drop=False)\n",
    "    # line plot\n",
    "    df.plot(ax=ax, x=index, y=cols, color='blue', legend=False)\n",
    "    # extract limits\n",
    "    y1, y2 = ax.get_ylim()\n",
    "    ax.fill_between(\n",
    "        df[index].index, y1=y1, y2=y2, where=df[area], facecolor='tab:red', alpha=0.4\n",
    "    )\n",
    "    return ax\n",
    "\n",
    "# set up figure, axis\n",
    "f, ax = plt.subplots(figsize=(12, 6))\n",
    "plot_series(ax, df)\n",
    "ax.set_title('Returns are Lower Under GOP Presidencies', loc='left')\n",
    "\n",
    "# ax.grid(visible=False)\n",
    "ax.grid(axis='y')\n",
    "ax.set_xlabel('')\n",
    "ax.set_ylabel('Total Return\\n(Real 2015 $)')\n",
    "\n",
    "ax.set_yticks([40, 80, 120, 160])\n",
    "# for text in ax.get_yticklabels():\n",
    "#text.set_fontsize(40)\n",
    "\n",
    "# plt.show()\n",
    "# f.savefig('matts_plot.png')"
   ]
  },
  {
   "cell_type": "code",
   "execution_count": 2,
   "id": "94bdcb97-d387-4457-8e41-f46f1167dcb3",
   "metadata": {},
   "outputs": [
    {
     "ename": "NameError",
     "evalue": "name 'plt' is not defined",
     "output_type": "error",
     "traceback": [
      "\u001b[0;31m---------------------------------------------------------------------------\u001b[0m",
      "\u001b[0;31mNameError\u001b[0m                                 Traceback (most recent call last)",
      "Cell \u001b[0;32mIn[2], line 16\u001b[0m\n\u001b[1;32m     13\u001b[0m     \u001b[38;5;28;01mreturn\u001b[39;00m ax\n\u001b[1;32m     15\u001b[0m \u001b[38;5;66;03m# set up figure, axis\u001b[39;00m\n\u001b[0;32m---> 16\u001b[0m f, ax \u001b[38;5;241m=\u001b[39m \u001b[43mplt\u001b[49m\u001b[38;5;241m.\u001b[39msubplots()\n\u001b[1;32m     17\u001b[0m plot_series(ax, df)\n\u001b[1;32m     18\u001b[0m ax\u001b[38;5;241m.\u001b[39mgrid(\u001b[38;5;28;01mTrue\u001b[39;00m)\n",
      "\u001b[0;31mNameError\u001b[0m: name 'plt' is not defined"
     ]
    }
   ],
   "source": [
    "# Plot log total returns over time. Shade GOP presidential terms\n",
    "# convenience function\n",
    "def plot_series(ax, df, index='Date', cols=['log_Real_Month_Return'], area='GOP'):\n",
    "    # convert area variable to boolean\n",
    "    df[area] = df[area].astype(int).astype(bool)\n",
    "    # set up an index based on date\n",
    "    df = df.set_index(keys=index, drop=False)\n",
    "    # line plot\n",
    "    df.plot(ax=ax, x=index, y=cols, color='blue')\n",
    "    # extract limits\n",
    "    y1, y2 = ax.get_ylim()\n",
    "    ax.fill_between(df[index].index, y1=y1, y2=y2, where=df[area], facecolor='grey', alpha=0.4)\n",
    "    return ax\n",
    "\n",
    "# set up figure, axis\n",
    "f, ax = plt.subplots()\n",
    "plot_series(ax, df)\n",
    "ax.grid(True)\n",
    "plt.show()"
   ]
  },
  {
   "cell_type": "code",
   "execution_count": 3,
   "id": "e5f11b75-c0f0-458f-ae4a-3147bc887e2d",
   "metadata": {},
   "outputs": [
    {
     "ename": "NameError",
     "evalue": "name 'df' is not defined",
     "output_type": "error",
     "traceback": [
      "\u001b[0;31m---------------------------------------------------------------------------\u001b[0m",
      "\u001b[0;31mNameError\u001b[0m                                 Traceback (most recent call last)",
      "Cell \u001b[0;32mIn[3], line 3\u001b[0m\n\u001b[1;32m      1\u001b[0m \u001b[38;5;66;03m# Run OLS regression of Monthly earnings onto GOP president flag\u001b[39;00m\n\u001b[1;32m      2\u001b[0m \u001b[38;5;66;03m# Outcome real earnings next period. GOP president is pre-determined. \u001b[39;00m\n\u001b[0;32m----> 3\u001b[0m df[\u001b[38;5;124m'\u001b[39m\u001b[38;5;124mGOPlag\u001b[39m\u001b[38;5;124m'\u001b[39m] \u001b[38;5;241m=\u001b[39m \u001b[43mdf\u001b[49m[\u001b[38;5;124m'\u001b[39m\u001b[38;5;124mGOP\u001b[39m\u001b[38;5;124m'\u001b[39m]\u001b[38;5;241m.\u001b[39mshift()\n\u001b[1;32m      5\u001b[0m results \u001b[38;5;241m=\u001b[39m sm\u001b[38;5;241m.\u001b[39mformula\u001b[38;5;241m.\u001b[39mols(formula \u001b[38;5;241m=\u001b[39m \u001b[38;5;124m'\u001b[39m\u001b[38;5;124mlog_Real_Month_Return ~ GOPlag\u001b[39m\u001b[38;5;124m'\u001b[39m, data\u001b[38;5;241m=\u001b[39mdf)\u001b[38;5;241m.\u001b[39mfit(cov_type\u001b[38;5;241m=\u001b[39m\u001b[38;5;124m'\u001b[39m\u001b[38;5;124mHC3\u001b[39m\u001b[38;5;124m'\u001b[39m)\n\u001b[1;32m      6\u001b[0m \u001b[38;5;28mprint\u001b[39m(results\u001b[38;5;241m.\u001b[39msummary())\n",
      "\u001b[0;31mNameError\u001b[0m: name 'df' is not defined"
     ]
    }
   ],
   "source": [
    "# Run OLS regression of Monthly earnings onto GOP president flag\n",
    "# Outcome real earnings next period. GOP president is pre-determined. \n",
    "df['GOPlag'] = df['GOP'].shift()\n",
    "\n",
    "results = sm.formula.ols(formula = 'log_Real_Month_Return ~ GOPlag', data=df).fit(cov_type='HC3')\n",
    "print(results.summary())"
   ]
  }
 ],
 "metadata": {
  "kernelspec": {
   "display_name": "Python 3 (ipykernel)",
   "language": "python",
   "name": "python3"
  },
  "language_info": {
   "codemirror_mode": {
    "name": "ipython",
    "version": 3
   },
   "file_extension": ".py",
   "mimetype": "text/x-python",
   "name": "python",
   "nbconvert_exporter": "python",
   "pygments_lexer": "ipython3",
   "version": "3.10.10"
  }
 },
 "nbformat": 4,
 "nbformat_minor": 5
}
