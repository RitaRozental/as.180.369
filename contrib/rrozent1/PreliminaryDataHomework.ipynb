{
 "cells": [
  {
   "cell_type": "code",
   "execution_count": 1,
   "id": "42058897-e497-45d9-a5ce-d5c55056e159",
   "metadata": {},
   "outputs": [],
   "source": [
    "# Load necessary libraries\n",
    "import statsmodels.api as sm\n",
    "import pandas as pd\n",
    "import numpy as np\n",
    "import matplotlib.pyplot as plt\n",
    "import datetime"
   ]
  },
  {
   "cell_type": "code",
   "execution_count": 2,
   "id": "d52bbf9f-4efe-40d9-9844-576131fc4809",
   "metadata": {},
   "outputs": [
    {
     "name": "stdout",
     "output_type": "stream",
     "text": [
      "         Date  Total_Patents_Originating_in_USA\n",
      "0  1992-01-01                           58694.0\n",
      "1  1993-01-01                           61226.0\n",
      "2  1994-01-01                           64244.0\n",
      "3  1995-01-01                           64399.0\n",
      "4  1996-01-01                           69328.0\n",
      "5  1997-01-01                           69860.0\n",
      "6  1998-01-01                           90649.0\n",
      "7  1999-01-01                           94040.0\n",
      "8  2000-01-01                           96920.0\n",
      "9  2001-01-01                           98594.0\n",
      "10 2002-01-01                           97086.0\n",
      "11 2003-01-01                           98563.0\n",
      "12 2004-01-01                           94110.0\n",
      "13 2005-01-01                           82562.0\n",
      "14 2006-01-01                          102239.0\n",
      "15 2007-01-01                           93665.0\n",
      "16 2008-01-01                           91980.0\n",
      "17 2009-01-01                           95032.0\n",
      "18 2010-01-01                          121164.0\n",
      "19 2011-01-01                          121247.0\n",
      "20 2012-01-01                          134187.0\n",
      "21 2013-01-01                          147652.0\n",
      "22 2014-01-01                          158709.0\n",
      "23 2015-01-01                          155982.0\n",
      "24 2016-01-01                          160540.0\n",
      "25 2017-01-01                          169208.0\n",
      "26 2018-01-01                          161809.0\n",
      "27 2019-01-01                          186118.0\n",
      "28 2020-01-01                          183147.0\n"
     ]
    }
   ],
   "source": [
    "# Set up FRED data connection\n",
    "# Instructions for getting your FRED API key available at these websites\n",
    "# https://pypi.org/project/fredapi/ \n",
    "# http://api.stlouisfed.org/api_key.html\n",
    "\n",
    "from fredapi import Fred\n",
    "fred = Fred(api_key='d45705d0636833c9b42e3e55f08f81ba')\n",
    "\n",
    "# OECD Total share price index \n",
    "temp = fred.get_series('PATENTUSALLTOTAL', observation_start='1992-01-01', observation_end='2020-01-01')\n",
    "df_total_patents_usa_idx = pd.DataFrame(data = temp, columns=['Total_Patents_Originating_in_USA'])\n",
    "df_total_patents_usa_idx = df_total_patents_usa_idx.rename_axis('Date').reset_index()\n",
    "print(df_total_patents_usa_idx.head(29))\n"
   ]
  },
  {
   "cell_type": "code",
   "execution_count": null,
   "id": "756585cb-d8e3-4ed9-8919-8274fd567cef",
   "metadata": {},
   "outputs": [],
   "source": []
  }
 ],
 "metadata": {
  "kernelspec": {
   "display_name": "Python 3 (ipykernel)",
   "language": "python",
   "name": "python3"
  },
  "language_info": {
   "codemirror_mode": {
    "name": "ipython",
    "version": 3
   },
   "file_extension": ".py",
   "mimetype": "text/x-python",
   "name": "python",
   "nbconvert_exporter": "python",
   "pygments_lexer": "ipython3",
   "version": "3.10.10"
  }
 },
 "nbformat": 4,
 "nbformat_minor": 5
}
